{
 "cells": [
  {
   "cell_type": "markdown",
   "id": "4d3a1d7a-cd78-4feb-a3fb-6616e9f4b1b6",
   "metadata": {},
   "source": [
    "## Import"
   ]
  },
  {
   "cell_type": "code",
   "execution_count": 1,
   "id": "c2d64ba0-c815-400a-aaae-893b6a014460",
   "metadata": {},
   "outputs": [],
   "source": [
    "import random\n",
    "import os\n",
    "\n",
    "import torch\n",
    "import torch.nn as nn\n",
    "import torch.nn.functional as F\n",
    "import time\n",
    "from torch.utils.data import TensorDataset, DataLoader\n",
    "#from torch.utils.data import DataLoader, RandomSampler, SequentialSampler\n",
    "from torch.optim.lr_scheduler import CosineAnnealingLR\n",
    "\n",
    "from tqdm import tqdm\n",
    "\n",
    "import pandas as pd\n",
    "import numpy as np\n",
    "\n",
    "from sklearn.model_selection import train_test_split\n",
    "from sklearn.preprocessing import RobustScaler\n",
    "\n",
    "from sklearn.metrics import f1_score\n",
    "from sklearn.metrics import classification_report\n",
    "\n",
    "import matplotlib.pyplot as plt\n",
    "%matplotlib inline\n",
    "import seaborn as sns\n",
    "import warnings\n",
    "warnings.filterwarnings(action='ignore')\n",
    "\n",
    "from sklearn.metrics import confusion_matrix, plot_confusion_matrix\n",
    "from sklearn import metrics\n",
    "from sklearn.metrics import accuracy_score, precision_score, recall_score, f1_score\n",
    "import matplotlib.pyplot as plt"
   ]
  },
  {
   "cell_type": "code",
   "execution_count": 2,
   "id": "766c1260",
   "metadata": {},
   "outputs": [
    {
     "name": "stdout",
     "output_type": "stream",
     "text": [
      "Device: cuda\n"
     ]
    }
   ],
   "source": [
    "device = torch.device('cuda' if torch.cuda.is_available() else 'cpu')\n",
    "print(\"Device: {}\".format(device))"
   ]
  },
  {
   "cell_type": "code",
   "execution_count": 3,
   "id": "5f333dfd",
   "metadata": {},
   "outputs": [],
   "source": [
    "random_seed = 41\n",
    "\n",
    "def seedEverything(random_seed):\n",
    "    torch.manual_seed(random_seed)\n",
    "    torch.cuda.manual_seed(random_seed)\n",
    "    torch.cuda.manual_seed_all(random_seed) # if use multi-GPU\n",
    "    torch.backends.cudnn.deterministic = True\n",
    "    torch.backends.cudnn.benchmark = False\n",
    "    random.seed(random_seed)\n",
    "    os.environ['PYTHONHASHSEED'] = str(random_seed)\n",
    "    np.random.seed(random_seed)   \n",
    "\n",
    "\n",
    "seedEverything(random_seed)"
   ]
  },
  {
   "cell_type": "markdown",
   "id": "4bcd76bd",
   "metadata": {},
   "source": [
    "## Semi-Supervised Learning "
   ]
  },
  {
   "cell_type": "code",
   "execution_count": 17,
   "id": "7eaab858",
   "metadata": {},
   "outputs": [],
   "source": [
    "def evaluate(model, label_loader):\n",
    "    \n",
    "    total = 0\n",
    "    correct = 0\n",
    "    accuracy = 0\n",
    "    test_loss = 0\n",
    "    predicts = []\n",
    "    targets = []\n",
    "    decodeds = []\n",
    "    ori = []\n",
    "    \n",
    "    model.eval()\n",
    "    \n",
    "    with torch.no_grad():\n",
    "         for step, (x, y) in enumerate(label_loader):\n",
    "                \n",
    "            x = x.to(device).float()\n",
    "            y = y.to(device)\n",
    "           \n",
    "            decoded = model(x)    \n",
    "\n",
    "            loss = criterion(decoded, x)    # 재구성 오차 \n",
    "\n",
    "            test_loss += loss.item()\n",
    "            decodeds.extend(decoded)\n",
    "            ori.extend(x)\n",
    "            \n",
    "            \n",
    "            targets.extend(y.reshape(-1))\n",
    "\n",
    "            \n",
    "            del decoded, x, y\n",
    "    \n",
    "\n",
    "    \n",
    "    return test_loss, ori, decodeds, targets "
   ]
  },
  {
   "cell_type": "code",
   "execution_count": 19,
   "id": "5f4e9f8b",
   "metadata": {},
   "outputs": [],
   "source": [
    "# def score(y_true, y_pred):\n",
    "    \n",
    "#     true_positive  = 0 # TP 초기화\n",
    "#     false_positive = 0 # FP 초기화\n",
    "#     false_negative = 0 # FN 초기화 \n",
    "#     true_negative  = 0 # TN 초기화 \n",
    "    \n",
    "    \n",
    "#     for i in range(len(y_true)):\n",
    "#         for j in range(len(y_true[i])):\n",
    "            \n",
    "#             if y_true[i][j] == 1:    # 실제 양성 \n",
    "#                 if y_pred[i][j] == 1:\n",
    "#                     true_positive+=1\n",
    "#                 else:\n",
    "#                     false_negative+=1\n",
    "            \n",
    "#             else:                   # 실제 음성\n",
    "#                 if y_pred[i][j] == 1:\n",
    "#                     false_positive+=1\n",
    "#                 else:\n",
    "#                     true_negative +=1\n",
    "                    \n",
    "                    \n",
    "#     accuracy = (true_positive + true_negative)/(true_positive + false_positive + false_negative + true_negative)               \n",
    "#     precision = true_positive / (true_positive + false_positive)     \n",
    "#     recall = true_positive / (true_positive + false_negative)\n",
    "#     f1_score = 2*precision*recall/(precision+recall)\n",
    "     \n",
    "#     accuracy = round(accuracy*100, 2)    \n",
    "#     precision = round(precision*100, 2)\n",
    "#     recall = round(recall*100, 2)\n",
    "#     f1_score = round(f1_score*100, 2)\n",
    "    \n",
    "#     return accuracy, precision, recall, f1_score"
   ]
  },
  {
   "cell_type": "code",
   "execution_count": 19,
   "id": "c9bec01d",
   "metadata": {},
   "outputs": [],
   "source": [
    "# class EarlyStopping():\n",
    "#     def __init__(self, patience=5, verbose=False, delta=0, path='./checkpoint.pt'):\n",
    "#         self.patience = patience\n",
    "#         self.verbose = verbose\n",
    "#         self.counter = 0\n",
    "#         self.best_score = None   # 검증 데이터셋에 대한 오차 최적화 값(오차가 가장 낮은 값)\n",
    "#         self.early_stop = False  # 조기 종료를 의미하며 초깃값은 false로 설정 \n",
    "#         self.delta = delta   \n",
    "#         # delta : 오차가 개선되고 있다고 판단하기 위한 최소 변화량. 변화량이 delta보다 적다면 개선이 없다고 판단          \n",
    "#         self.path = path   # 모델이 저장될 경로 \n",
    "        \n",
    "#     def __call__(self, val_loss, model):   \n",
    "#         # 에포크만큼 학습이 반복되면서 best loss 가 갱신되고, best loss 에 진전이 없으면 조기 종료한 후 모델을 저장 \n",
    "#         score = -val_loss\n",
    "\n",
    "#         if self.best_score is None:  # best loss 존재하지 않으면 실행 \n",
    "#             self.best_score = score\n",
    "#             self.save_checkpoint(val_loss, model)\n",
    "#         elif score < self.best_score + self.delta:  # best loss + 델타가 score보다 크면 실행 \n",
    "#             self.counter += 1\n",
    "#             print(f'EarlyStopping counter: {self.counter} out of {self.patience}')\n",
    "#             if self.counter >= self.patience:\n",
    "#                 self.early_stop = True\n",
    "#         else:    # 그외 경우 실행 \n",
    "#             self.best_score = score\n",
    "#             self.save_checkpoint(val_loss, model)\n",
    "#             self.counter = 0\n",
    "\n",
    "#     def save_checkpoint(self, val_loss, model):   # 검증 데이터셋에 대한 오차가 감소하면 모델을 저장 \n",
    "#         if self.verbose:\n",
    "#             print(f'Validation loss decreased ({self.val_loss_min:.6f} --> {val_loss:.6f}).  Saving model ...')\n",
    "#         torch.save(model.state_dict(), self.path)\n",
    "#         self.val_loss_min = val_loss"
   ]
  },
  {
   "cell_type": "code",
   "execution_count": 18,
   "id": "c951d402",
   "metadata": {},
   "outputs": [],
   "source": [
    "class AutoEncoder(nn.Module):\n",
    "    def __init__(self):\n",
    "        super(AutoEncoder, self).__init__()\n",
    "        self.Encoder = nn.Sequential(\n",
    "#             nn.Linear(30,256),\n",
    "#             nn.BatchNorm1d(256),  \n",
    "#             nn.LeakyReLU(),\n",
    "            \n",
    "            nn.Linear(30,128),\n",
    "#             nn.BatchNorm1d(128),\n",
    "            nn.LeakyReLU(),\n",
    "            \n",
    "            nn.Linear(128,64),\n",
    "#             nn.BatchNorm1d(64),\n",
    "            nn.LeakyReLU(),\n",
    "            \n",
    "            nn.Linear(64,28),\n",
    "#             nn.BatchNorm1d(28),\n",
    "            nn.LeakyReLU()\n",
    "        )\n",
    "        self.Decoder = nn.Sequential(\n",
    "            nn.Linear(28,64),\n",
    "#             nn.BatchNorm1d(64),\n",
    "            nn.LeakyReLU(),\n",
    "            \n",
    "            nn.Linear(64,128),\n",
    "#             nn.BatchNorm1d(128),\n",
    "            nn.LeakyReLU(),\n",
    "            \n",
    "#             nn.Linear(128,256),\n",
    "#             nn.BatchNorm1d(256),\n",
    "#             nn.LeakyReLU(),\n",
    "            \n",
    "            nn.Linear(128,30)\n",
    "        )\n",
    "        \n",
    "#         self.classifier = nn.Sequential(\n",
    "#             nn.Linear(30, 1),\n",
    "#            # nn.Dropout(0.2),\n",
    "#             nn.Sigmoid()\n",
    "#         )\n",
    "            \n",
    "        \n",
    "        \n",
    "    def forward(self, x):\n",
    "        x = self.Encoder(x)\n",
    "        x1 = self.Decoder(x)\n",
    "    \n",
    "        return x1"
   ]
  },
  {
   "cell_type": "code",
   "execution_count": 19,
   "id": "be352834",
   "metadata": {},
   "outputs": [],
   "source": [
    "def threshold(x_thr, model): \n",
    "    \n",
    "    with torch.no_grad():  \n",
    "        new = model(x_thr)\n",
    "    \n",
    "    mse = []\n",
    "    for i in range(len(x_thr)):\n",
    "        mse.append(criterion(x_thr[i], new[i]).item())\n",
    "        \n",
    "    \n",
    "    thr = np.array(mse).mean()#+ np.array(mse).std()\n",
    "    # thr = np.array(mse).max()\n",
    "#     thr = np.median(mse)\n",
    "    \n",
    "    \n",
    "    \n",
    "    return thr"
   ]
  },
  {
   "cell_type": "code",
   "execution_count": 20,
   "id": "bfa3795c",
   "metadata": {},
   "outputs": [],
   "source": [
    "def hard_pseudo_label(ori, recon, threshold):  \n",
    "    \n",
    "    mse = []\n",
    "    for i in range(len(ori)):\n",
    "        mse.append(criterion(ori[i], recon[i]).item())\n",
    "    \n",
    "    pseudo_label = [1 if e > threshold else 0 for e in mse]   \n",
    "    pseudo_label = torch.tensor(pseudo_label).to(device)\n",
    "    pseudo_label = pseudo_label.reshape(-1,1)\n",
    "        \n",
    "    z = torch.cat([ori, recon, pseudo_label], dim=1) \n",
    "    z0 = z[z[:,-1] == 0]  \n",
    "\n",
    "    ori0 = z0[:,:ori.shape[1]]\n",
    "    recon0 = z0[:,ori.shape[1]:-1]\n",
    "    y0 = z0[:,-1]\n",
    "        \n",
    "       \n",
    "    return ori0, recon0, y0"
   ]
  },
  {
   "cell_type": "code",
   "execution_count": 21,
   "id": "a2905fcc",
   "metadata": {},
   "outputs": [],
   "source": [
    "num_epochs = 1000   \n",
    "learning_rate = 0.001  \n",
    " \n",
    "# early_stopping = EarlyStopping()\n",
    "\n",
    "student = AutoEncoder().to(device)\n",
    "teacher = AutoEncoder().to(device)\n",
    "\n",
    "#------- get optimizers for student and teacher ------------------#\n",
    "s_optimizer = torch.optim.Adam(student.parameters(), lr=learning_rate)  \n",
    "t_optimizer = torch.optim.Adam(teacher.parameters(), lr=learning_rate)  \n",
    "\n",
    "# s_scheduler = get_scheduler(s_optimizer, num_warmup_steps, num_steps)\n",
    "# t_scheduler = get_scheduler(t_optimizer, num_warmup_steps, num_steps)\n",
    "criterion = nn.MSELoss()"
   ]
  },
  {
   "cell_type": "code",
   "execution_count": 1,
   "id": "4c190931",
   "metadata": {
    "scrolled": true
   },
   "outputs": [],
   "source": [
    "s_train_losses = []\n",
    "t_train_losses = []\n",
    "\n",
    "t_valid_losses0 = []\n",
    "t_valid_losses = []\n",
    "t_test_losses = []\n",
    "\n",
    "s_valid_losses0 = []\n",
    "s_valid_losses = []\n",
    "s_test_losses = []\n",
    "\n",
    "changes = []\n",
    "num = []\n",
    "\n",
    "label_valid_thr = label_valid_thr.to(device).float() \n",
    "start = time.time()\n",
    "\n",
    "\n",
    "for epoch in range(num_epochs):   \n",
    "    \n",
    "    t_train_loss = 0.0 \n",
    "    s_train_loss = 0.0 \n",
    "    s_change = 0\n",
    "    u_num = 0\n",
    "    \n",
    "    teacher.train()  \n",
    "    student.train()\n",
    "    \n",
    "    total = 0\n",
    "    correct = 0\n",
    "    train_accuracy = 0\n",
    "    \n",
    "    \n",
    "    for step, (label, unlabel) in enumerate(zip(label_train_loader0, unlabel_loader)):\n",
    "     \n",
    "        l_x = label[0].to(device).float()   #, dtype=torch.float)\n",
    "        l_y = label[1].to(device)\n",
    "        u_x = unlabel[0].to(device).float()\n",
    "         \n",
    "                \n",
    "        t_optimizer.zero_grad()  \n",
    "        s_optimizer.zero_grad()   \n",
    "                \n",
    "      \n",
    "       ####################################################################### \n",
    "        \n",
    "      \n",
    "        s_l_logit_old = student(l_x)   \n",
    "        \n",
    "        \n",
    "        s_l_loss_old = criterion(l_x, s_l_logit_old.detach())   \n",
    "       \n",
    "        del s_l_logit_old \n",
    "        \n",
    "        \n",
    "        # get teacher generated pseudo labels for unlabelled data\n",
    "        \n",
    "        t_u_logit = teacher(u_x) #.float()   \n",
    "       \n",
    "        thr = threshold(label_valid_thr, teacher)   \n",
    "    \n",
    "        t_ori_ux, t_recon_ux, t_uy = hard_pseudo_label(u_x, t_u_logit.detach(), thr) \n",
    "        \n",
    "        del u_x, t_u_logit, thr\n",
    "        \n",
    "        t_u_loss = criterion(t_ori_ux, t_recon_ux) \n",
    "            \n",
    "        del t_recon_ux\n",
    "        \n",
    "        #------ Train Student: With Pesudo Label Data ------------------#\n",
    "   \n",
    "            \n",
    "        s_u_logit = student(t_ori_ux)\n",
    "        \n",
    "        s_u_loss = criterion(t_ori_ux, s_u_logit)\n",
    "        \n",
    "        del s_u_logit\n",
    "        \n",
    "        s_loss = s_u_loss\n",
    "        \n",
    "        s_train_loss += s_loss.item()\n",
    "        \n",
    "        s_loss.requires_grad_(True)\n",
    "        s_loss.backward() \n",
    "        s_optimizer.step()   \n",
    "        \n",
    "        \n",
    "    \n",
    "        #------ Train Teacher ------------------------------------------#\n",
    "        \n",
    "\n",
    "        with torch.no_grad():  \n",
    "            s_l_logit_new = student(l_x)\n",
    "            \n",
    "        s_l_loss_new = criterion(l_x, s_l_logit_new)\n",
    "        \n",
    "        del s_l_logit_new\n",
    "        \n",
    "        change = s_l_loss_new - s_l_loss_old  # performance improvement from student\n",
    "                                                     \n",
    "        t_l_logit = teacher(l_x) \n",
    "      \n",
    "        t_l_loss = criterion(l_x, t_l_logit) \n",
    "        \n",
    "        del l_x, t_l_logit\n",
    "        \n",
    "        t_mpl_loss = change * t_u_loss\n",
    "        \n",
    "        t_loss = t_l_loss + t_mpl_loss  \n",
    "        \n",
    "\n",
    "\n",
    "        t_train_loss += t_loss.item()\n",
    "        t_loss.requires_grad_(True)\n",
    "        t_loss.backward()\n",
    "        t_optimizer.step()  \n",
    "        torch.cuda.empty_cache()\n",
    "                      \n",
    "        s_change += change.item()\n",
    "        \n",
    "        if step == 0:\n",
    "            u_num = t_ori_ux.shape[0]\n",
    "    \n",
    "    changes.append(s_change) \n",
    "    num.append(u_num)\n",
    "\n",
    "    s_train_losses.append(s_train_loss) \n",
    "    t_train_losses.append(t_train_loss)        \n",
    "    print(\"Epoch: %d, teacher loss: %1.5f, student loss: %1.5f\" % (epoch+1, t_loss.item(), s_loss.item())) \n",
    "\n",
    "    \n",
    "  \n",
    "    ##################################################################################\n",
    "    t_valid_loss0,_,_,_ = evaluate(teacher, label_valid_loader0)\n",
    "    t_valid_loss,_,_,_ = evaluate(teacher, label_valid_loader)    \n",
    "    t_test_loss,_,_,_ = evaluate(teacher, label_test_loader)\n",
    "    \n",
    "    s_valid_loss0,_,_,_ = evaluate(student, label_valid_loader0)\n",
    "    s_valid_loss,_,_,_ = evaluate(student,label_valid_loader)     \n",
    "    s_test_loss,_,_,_ = evaluate(student, label_test_loader)\n",
    "    \n",
    "    t_valid_losses0.append(t_valid_loss0) \n",
    "    t_valid_losses.append(t_valid_loss) \n",
    "    t_test_losses.append(t_test_loss) \n",
    "    \n",
    "    s_valid_losses0.append(s_valid_loss0)\n",
    "    s_valid_losses.append(s_valid_loss) \n",
    "    s_test_losses.append(s_test_loss) \n",
    "    \n",
    "    \n",
    "    print('nomal : ',u_num, 'change : ',change.item())\n",
    "\n",
    "    print(\"Epoch: {}/{} \".format(epoch+1, num_epochs),\n",
    "          \"T_train Loss: {:.4f} \".format(t_train_loss),\n",
    "          \"T_valid Loss0: {:.4f} \".format(t_valid_loss0),\n",
    "          \"T_valid Loss: {:.4f} \".format(t_valid_loss),\n",
    "          \"T_Test Loss: {:.4f} \".format(t_test_loss))\n",
    "    \n",
    "    print(\"Epoch: {}/{} \".format(epoch+1, num_epochs),\n",
    "          \"S_train Loss: {:.4f} \".format(s_train_loss),\n",
    "          \"S_Valid Loss0: {:.4f} \".format(s_valid_loss0),\n",
    "          \"S_Valid Loss: {:.4f} \".format(s_valid_loss),\n",
    "          \"S_Test Loss: {:.4f} \".format(s_test_loss))\n",
    "    print('\\n')\n",
    "\n",
    "\n",
    "    \n",
    "end = time.time()\n",
    "print(f\"Training time: {(end-start)/60:.3f} minutes\")"
   ]
  },
  {
   "cell_type": "code",
   "execution_count": 23,
   "id": "428e2bd7",
   "metadata": {},
   "outputs": [],
   "source": [
    "# torch.save(teacher, 'model/teacher_pre0_15_e1000_mean_32.pt')\n",
    "# torch.save(student, 'model/student_pre0_15_e1000_mean_32.pt')"
   ]
  },
  {
   "cell_type": "code",
   "execution_count": 24,
   "id": "9372cd55",
   "metadata": {
    "scrolled": true
   },
   "outputs": [
    {
     "data": {
      "text/plain": [
       "<matplotlib.legend.Legend at 0x1a411dedb20>"
      ]
     },
     "execution_count": 24,
     "metadata": {},
     "output_type": "execute_result"
    },
    {
     "data": {
      "image/png": "[encoded data removed]",
      "text/plain": [
       "<Figure size 432x288 with 1 Axes>"
      ]
     },
     "metadata": {
      "needs_background": "light"
     },
     "output_type": "display_data"
    }
   ],
   "source": [
    "#fig = plt.figure(figsize=(12,5)) \n",
    "plt.plot(t_train_losses, label='Teacher Train loss')\n",
    "plt.plot(t_valid_losses0, label='Teacher Valid loss0')\n",
    "\n",
    "plt.plot(s_train_losses, label='Student Train loss')\n",
    "plt.plot(s_valid_losses0, label='Student Valid loss0')\n",
    "\n",
    "plt.title('Loss')\n",
    "plt.xlabel('Epochs')\n",
    "plt.ylabel('loss')    \n",
    "plt.legend()"
   ]
  },
  {
   "cell_type": "code",
   "execution_count": 26,
   "id": "7b740f1e",
   "metadata": {},
   "outputs": [],
   "source": [
    "def mse_get(x, _x):\n",
    "    mse = []\n",
    "    for i in range(len(x)):\n",
    "        mse.append(criterion(x[i], _x[i]).item())\n",
    "    \n",
    "    return mse"
   ]
  },
  {
   "cell_type": "markdown",
   "id": "d102bcac",
   "metadata": {},
   "source": [
    "### student"
   ]
  },
  {
   "cell_type": "code",
   "execution_count": 41,
   "id": "31742b62",
   "metadata": {},
   "outputs": [],
   "source": [
    "_,valid_ori, valid_de, valid_y = evaluate(student,label_valid_loader)   \n",
    "_,test_ori, test_de, test_y = evaluate(student, label_test_loader)   \n",
    "\n",
    "s_valid_mse = mse_get(valid_ori, valid_de)\n",
    "s_test_mse = mse_get(test_ori, test_de)"
   ]
  },
  {
   "cell_type": "code",
   "execution_count": 42,
   "id": "f935ad06",
   "metadata": {},
   "outputs": [],
   "source": [
    "#valid\n",
    "mse = pd.DataFrame({'Reconstruction_error':s_valid_mse})\n",
    "true_valid = pd.DataFrame(torch.tensor(valid_y),columns = ['True_class'])\n",
    "error_df = pd.concat([mse,true_valid] ,axis=1)\n",
    "true_valid = pd.DataFrame(torch.tensor(valid_y),columns = ['True_class'])\n",
    "error_df = pd.concat([mse,true_valid] ,axis=1)"
   ]
  },
  {
   "cell_type": "code",
   "execution_count": 43,
   "id": "7ef6ac00",
   "metadata": {},
   "outputs": [
    {
     "data": {
      "image/png": "[encoded data removed]",
      "text/plain": [
       "<Figure size 576x360 with 1 Axes>"
      ]
     },
     "metadata": {
      "needs_background": "light"
     },
     "output_type": "display_data"
    }
   ],
   "source": [
    "precision_rt, recall_rt, threshold_rt = metrics.precision_recall_curve(error_df['True_class'], error_df['Reconstruction_error'])\n",
    "F1  = (2* precision_rt[1:]* recall_rt[1:])/( precision_rt[1:] +recall_rt[1:])#F1 Score \n",
    "\n",
    "plt.figure(figsize=(8,5))\n",
    "plt.plot(threshold_rt, precision_rt[1:], label='Precision')\n",
    "plt.plot(threshold_rt, recall_rt[1:], label='Recall')\n",
    "plt.plot(threshold_rt, F1, label='F1 Score ')\n",
    "plt.xlabel('Threshold'); plt.ylabel('Precision/Recall/F1 Score')\n",
    "plt.legend()\n",
    "plt.show()"
   ]
  },
  {
   "cell_type": "code",
   "execution_count": 44,
   "id": "540c6ada",
   "metadata": {},
   "outputs": [
    {
     "data": {
      "text/plain": [
       "array([0.19068401])"
      ]
     },
     "execution_count": 44,
     "metadata": {},
     "output_type": "execute_result"
    }
   ],
   "source": [
    "m = pd.DataFrame({'F1' : F1, 'thr' :threshold_rt})    \n",
    "thr = m['thr'][m['F1'] == m['F1'].max()].values\n",
    "thr "
   ]
  },
  {
   "cell_type": "code",
   "execution_count": 45,
   "id": "7255f14d",
   "metadata": {},
   "outputs": [
    {
     "data": {
      "text/plain": [
       "12"
      ]
     },
     "execution_count": 45,
     "metadata": {},
     "output_type": "execute_result"
    }
   ],
   "source": [
    "z = [1 if e > thr else 0 for e in np.array(mse)]  \n",
    "np.array(z).sum()"
   ]
  },
  {
   "cell_type": "code",
   "execution_count": 46,
   "id": "b85b845c",
   "metadata": {
    "scrolled": false
   },
   "outputs": [
    {
     "name": "stdout",
     "output_type": "stream",
     "text": [
      "[[6141    3]\n",
      " [   0   12]]\n",
      "              precision    recall  f1-score   support\n",
      "\n",
      "           0       1.00      1.00      1.00      6144\n",
      "           1       0.80      1.00      0.89        12\n",
      "\n",
      "    accuracy                           1.00      6156\n",
      "   macro avg       0.90      1.00      0.94      6156\n",
      "weighted avg       1.00      1.00      1.00      6156\n",
      "\n"
     ]
    }
   ],
   "source": [
    "conf_matrix = metrics.confusion_matrix(z, torch.tensor(valid_y))   \n",
    "print(conf_matrix)\n",
    "print(metrics.classification_report(z, torch.tensor(valid_y)))"
   ]
  },
  {
   "cell_type": "code",
   "execution_count": 47,
   "id": "1082c7d8",
   "metadata": {},
   "outputs": [
    {
     "data": {
      "image/png": "[encoded data removed]",
      "text/plain": [
       "<Figure size 432x288 with 1 Axes>"
      ]
     },
     "metadata": {
      "needs_background": "light"
     },
     "output_type": "display_data"
    }
   ],
   "source": [
    "groups = error_df.groupby('True_class')\n",
    "fig, ax = plt.subplots()\n",
    "\n",
    "for name, group in groups:\n",
    "    ax.plot(group.index, group.Reconstruction_error, marker='o', ms=3.5, linestyle='',\n",
    "            label= \"Fraud\" if name == 1 else \"Normal\")\n",
    "ax.hlines(thr, ax.get_xlim()[0], ax.get_xlim()[1], colors=\"r\", zorder=100, label='Threshold')\n",
    "ax.legend()\n",
    "plt.title(\"Reconstruction error for different classes\")\n",
    "plt.ylabel(\"Reconstruction error\")\n",
    "plt.xlabel(\"Data point index\")\n",
    "plt.show()"
   ]
  },
  {
   "cell_type": "code",
   "execution_count": 48,
   "id": "3a245d03",
   "metadata": {},
   "outputs": [
    {
     "data": {
      "image/png": "[encoded data removed]",
      "text/plain": [
       "<Figure size 432x288 with 1 Axes>"
      ]
     },
     "metadata": {
      "needs_background": "light"
     },
     "output_type": "display_data"
    }
   ],
   "source": [
    "false_pos_rate, true_pos_rate, thresholds = metrics.roc_curve(error_df['True_class'], error_df['Reconstruction_error'])\n",
    "roc_auc = metrics.auc(false_pos_rate, true_pos_rate,)\n",
    "\n",
    "plt.plot(false_pos_rate, true_pos_rate, linewidth=4, label='AUC = %0.5f'% roc_auc)\n",
    "plt.plot([0,1],[0,1], linewidth=4)\n",
    "\n",
    "plt.xlim([-0.01, 1])\n",
    "plt.ylim([0, 1.01])\n",
    "plt.legend(loc='lower right')\n",
    "plt.title('Receiver operating characteristic curve (ROC)')\n",
    "plt.ylabel('True Positive Rate'); plt.xlabel('False Positive Rate')\n",
    "plt.show()"
   ]
  },
  {
   "cell_type": "code",
   "execution_count": 49,
   "id": "de4e6930",
   "metadata": {},
   "outputs": [],
   "source": [
    "# test\n",
    "mse = pd.DataFrame({'Reconstruction_error':s_test_mse})\n",
    "true_valid = pd.DataFrame(torch.tensor(test_y),columns = ['True_class'])\n",
    "error_df = pd.concat([mse,true_valid] ,axis=1)\n",
    "true_valid = pd.DataFrame(torch.tensor(test_y),columns = ['True_class'])\n",
    "error_df = pd.concat([mse,true_valid] ,axis=1)"
   ]
  },
  {
   "cell_type": "code",
   "execution_count": 50,
   "id": "0ac82370",
   "metadata": {},
   "outputs": [
    {
     "data": {
      "text/plain": [
       "14"
      ]
     },
     "execution_count": 50,
     "metadata": {},
     "output_type": "execute_result"
    }
   ],
   "source": [
    "z = [1 if e > thr else 0 for e in np.array(mse)]  \n",
    "np.array(z).sum()"
   ]
  },
  {
   "cell_type": "code",
   "execution_count": 51,
   "id": "9a2847bf",
   "metadata": {
    "scrolled": false
   },
   "outputs": [
    {
     "name": "stdout",
     "output_type": "stream",
     "text": [
      "[[5117    2]\n",
      " [   1   13]]\n",
      "              precision    recall  f1-score   support\n",
      "\n",
      "           0       1.00      1.00      1.00      5119\n",
      "           1       0.87      0.93      0.90        14\n",
      "\n",
      "    accuracy                           1.00      5133\n",
      "   macro avg       0.93      0.96      0.95      5133\n",
      "weighted avg       1.00      1.00      1.00      5133\n",
      "\n"
     ]
    }
   ],
   "source": [
    "conf_matrix = metrics.confusion_matrix(z, torch.tensor(test_y))  \n",
    "print(conf_matrix)\n",
    "print(metrics.classification_report(z, torch.tensor(test_y)))  "
   ]
  },
  {
   "cell_type": "code",
   "execution_count": 52,
   "id": "8006967e",
   "metadata": {},
   "outputs": [
    {
     "data": {
      "image/png": "[encoded data removed]",
      "text/plain": [
       "<Figure size 432x288 with 1 Axes>"
      ]
     },
     "metadata": {
      "needs_background": "light"
     },
     "output_type": "display_data"
    }
   ],
   "source": [
    "groups = error_df.groupby('True_class')\n",
    "fig, ax = plt.subplots()\n",
    "\n",
    "for name, group in groups:\n",
    "    ax.plot(group.index, group.Reconstruction_error, marker='o', ms=3.5, linestyle='',\n",
    "            label= \"Fraud\" if name == 1 else \"Normal\")\n",
    "ax.hlines(thr, ax.get_xlim()[0], ax.get_xlim()[1], colors=\"r\", zorder=100, label='Threshold')\n",
    "ax.legend()\n",
    "plt.title(\"Reconstruction error for different classes\")\n",
    "plt.ylabel(\"Reconstruction error\")\n",
    "plt.xlabel(\"Data point index\")\n",
    "plt.show()"
   ]
  },
  {
   "cell_type": "code",
   "execution_count": 53,
   "id": "5ca8312e",
   "metadata": {},
   "outputs": [
    {
     "data": {
      "image/png": "[encoded data removed]",
      "text/plain": [
       "<Figure size 432x288 with 1 Axes>"
      ]
     },
     "metadata": {
      "needs_background": "light"
     },
     "output_type": "display_data"
    }
   ],
   "source": [
    "false_pos_rate, true_pos_rate, thresholds = metrics.roc_curve(error_df['True_class'], error_df['Reconstruction_error'])\n",
    "roc_auc = metrics.auc(false_pos_rate, true_pos_rate,)\n",
    "\n",
    "plt.plot(false_pos_rate, true_pos_rate, linewidth=4, label='AUC = %0.5f'% roc_auc)\n",
    "plt.plot([0,1],[0,1], linewidth=4)\n",
    "\n",
    "plt.xlim([-0.01, 1])\n",
    "plt.ylim([0, 1.01])\n",
    "plt.legend(loc='lower right')\n",
    "plt.title('Receiver operating characteristic curve (ROC)')\n",
    "plt.ylabel('True Positive Rate'); plt.xlabel('False Positive Rate')\n",
    "plt.show()\n"
   ]
  }
 ],
 "metadata": {
  "kernelspec": {
   "display_name": "torch",
   "language": "python",
   "name": "torch"
  },
  "language_info": {
   "codemirror_mode": {
    "name": "ipython",
    "version": 3
   },
   "file_extension": ".py",
   "mimetype": "text/x-python",
   "name": "python",
   "nbconvert_exporter": "python",
   "pygments_lexer": "ipython3",
   "version": "3.9.12"
  }
 },
 "nbformat": 4,
 "nbformat_minor": 5
}
